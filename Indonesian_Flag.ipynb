{
  "nbformat": 4,
  "nbformat_minor": 0,
  "metadata": {
    "colab": {
      "name": "Indonesian Flag.ipynb",
      "provenance": [],
      "authorship_tag": "ABX9TyOPqoNeaLBmaJPitat/OLuw",
      "include_colab_link": true
    },
    "kernelspec": {
      "name": "python3",
      "display_name": "Python 3"
    },
    "language_info": {
      "name": "python"
    }
  },
  "cells": [
    {
      "cell_type": "markdown",
      "metadata": {
        "id": "view-in-github",
        "colab_type": "text"
      },
      "source": [
        "<a href=\"https://colab.research.google.com/github/nabnfikri/nabnfikri-indonesian-flag-using-python/blob/main/Indonesian_Flag.ipynb\" target=\"_parent\"><img src=\"https://colab.research.google.com/assets/colab-badge.svg\" alt=\"Open In Colab\"/></a>"
      ]
    },
    {
      "cell_type": "markdown",
      "source": [
        "# Indonesian Flag Using Python by Inab"
      ],
      "metadata": {
        "id": "RfTTQJxKytUP"
      }
    },
    {
      "cell_type": "code",
      "execution_count": null,
      "metadata": {
        "colab": {
          "base_uri": "https://localhost:8080/",
          "height": 265
        },
        "id": "IJ4Eeg9NwWT4",
        "outputId": "ab103203-51f9-4c72-eb19-f44e80263929"
      },
      "outputs": [
        {
          "output_type": "display_data",
          "data": {
            "text/plain": [
              "<Figure size 432x288 with 1 Axes>"
            ],
            "image/png": "[encoded data removed]"
          },
          "metadata": {
            "needs_background": "light"
          }
        }
      ],
      "source": [
        "import matplotlib.pyplot as py\n",
        "import matplotlib.patches as patch\n",
        "\n",
        "#plotting the two colours in national flag\n",
        "a = patch.Rectangle((0,3), width=12, height=4, facecolor='white', edgecolor='grey')\n",
        "b = patch.Rectangle((0,7), width=12, height=4, facecolor='red', edgecolor='grey')\n",
        "n = py.subplot()\n",
        "n.add_patch(a)\n",
        "n.add_patch(b)\n",
        "\n",
        "py.axis('equal')\n",
        "py.show()"
      ]
    }
  ]
}